{
 "cells": [
  {
   "cell_type": "markdown",
   "metadata": {},
   "source": [
    "# Analysizing Crime Data"
   ]
  },
  {
   "cell_type": "code",
   "execution_count": 1,
   "metadata": {},
   "outputs": [],
   "source": [
    "# Dependencies and Setup\n",
    "%matplotlib inline\n",
    "import numpy as np\n",
    "import pandas as pd\n",
    "import matplotlib.pyplot as plt\n",
    "from sklearn.preprocessing import LabelEncoder\n",
    "from statsmodels.formula.api import glm\n",
    "import statsmodels.api as sm\n",
    "import scipy.stats as stats"
   ]
  },
  {
   "cell_type": "code",
   "execution_count": 2,
   "metadata": {},
   "outputs": [
    {
     "data": {
      "text/html": [
       "<div>\n",
       "<style scoped>\n",
       "    .dataframe tbody tr th:only-of-type {\n",
       "        vertical-align: middle;\n",
       "    }\n",
       "\n",
       "    .dataframe tbody tr th {\n",
       "        vertical-align: top;\n",
       "    }\n",
       "\n",
       "    .dataframe thead th {\n",
       "        text-align: right;\n",
       "    }\n",
       "</style>\n",
       "<table border=\"1\" class=\"dataframe\">\n",
       "  <thead>\n",
       "    <tr style=\"text-align: right;\">\n",
       "      <th></th>\n",
       "      <th>City</th>\n",
       "      <th>Year</th>\n",
       "      <th>Month</th>\n",
       "      <th>DayofWeek</th>\n",
       "      <th>StartTime</th>\n",
       "      <th>MapCrime</th>\n",
       "      <th>MapWeather</th>\n",
       "      <th>Population</th>\n",
       "      <th>Count</th>\n",
       "    </tr>\n",
       "  </thead>\n",
       "  <tbody>\n",
       "    <tr>\n",
       "      <th>0</th>\n",
       "      <td>atlanta</td>\n",
       "      <td>2014</td>\n",
       "      <td>1</td>\n",
       "      <td>Friday</td>\n",
       "      <td>0</td>\n",
       "      <td>Auto-Theft</td>\n",
       "      <td>Clear</td>\n",
       "      <td>5455053</td>\n",
       "      <td>1</td>\n",
       "    </tr>\n",
       "    <tr>\n",
       "      <th>1</th>\n",
       "      <td>atlanta</td>\n",
       "      <td>2014</td>\n",
       "      <td>1</td>\n",
       "      <td>Friday</td>\n",
       "      <td>0</td>\n",
       "      <td>Theft</td>\n",
       "      <td>Clear</td>\n",
       "      <td>5455053</td>\n",
       "      <td>9</td>\n",
       "    </tr>\n",
       "    <tr>\n",
       "      <th>2</th>\n",
       "      <td>atlanta</td>\n",
       "      <td>2014</td>\n",
       "      <td>1</td>\n",
       "      <td>Friday</td>\n",
       "      <td>0</td>\n",
       "      <td>Theft</td>\n",
       "      <td>Overcast</td>\n",
       "      <td>5455053</td>\n",
       "      <td>1</td>\n",
       "    </tr>\n",
       "    <tr>\n",
       "      <th>3</th>\n",
       "      <td>atlanta</td>\n",
       "      <td>2014</td>\n",
       "      <td>1</td>\n",
       "      <td>Friday</td>\n",
       "      <td>0</td>\n",
       "      <td>Theft</td>\n",
       "      <td>Partly Cloudy</td>\n",
       "      <td>5455053</td>\n",
       "      <td>2</td>\n",
       "    </tr>\n",
       "    <tr>\n",
       "      <th>4</th>\n",
       "      <td>atlanta</td>\n",
       "      <td>2014</td>\n",
       "      <td>1</td>\n",
       "      <td>Friday</td>\n",
       "      <td>0</td>\n",
       "      <td>Violence</td>\n",
       "      <td>Overcast</td>\n",
       "      <td>5455053</td>\n",
       "      <td>1</td>\n",
       "    </tr>\n",
       "  </tbody>\n",
       "</table>\n",
       "</div>"
      ],
      "text/plain": [
       "      City  Year  Month DayofWeek  StartTime    MapCrime     MapWeather  \\\n",
       "0  atlanta  2014      1    Friday          0  Auto-Theft          Clear   \n",
       "1  atlanta  2014      1    Friday          0       Theft          Clear   \n",
       "2  atlanta  2014      1    Friday          0       Theft       Overcast   \n",
       "3  atlanta  2014      1    Friday          0       Theft  Partly Cloudy   \n",
       "4  atlanta  2014      1    Friday          0    Violence       Overcast   \n",
       "\n",
       "   Population  Count  \n",
       "0     5455053      1  \n",
       "1     5455053      9  \n",
       "2     5455053      1  \n",
       "3     5455053      2  \n",
       "4     5455053      1  "
      ]
     },
     "execution_count": 2,
     "metadata": {},
     "output_type": "execute_result"
    }
   ],
   "source": [
    "file = \"SummaryData_Pop.csv\"\n",
    "crime = pd.read_csv(file)\n",
    "crime.head()"
   ]
  },
  {
   "cell_type": "code",
   "execution_count": 5,
   "metadata": {
    "scrolled": true
   },
   "outputs": [
    {
     "data": {
      "text/html": [
       "<div>\n",
       "<style scoped>\n",
       "    .dataframe tbody tr th:only-of-type {\n",
       "        vertical-align: middle;\n",
       "    }\n",
       "\n",
       "    .dataframe tbody tr th {\n",
       "        vertical-align: top;\n",
       "    }\n",
       "\n",
       "    .dataframe thead th {\n",
       "        text-align: right;\n",
       "    }\n",
       "</style>\n",
       "<table border=\"1\" class=\"dataframe\">\n",
       "  <thead>\n",
       "    <tr style=\"text-align: right;\">\n",
       "      <th></th>\n",
       "      <th></th>\n",
       "      <th>Count</th>\n",
       "    </tr>\n",
       "    <tr>\n",
       "      <th>City</th>\n",
       "      <th>MapWeather</th>\n",
       "      <th></th>\n",
       "    </tr>\n",
       "  </thead>\n",
       "  <tbody>\n",
       "    <tr>\n",
       "      <th rowspan=\"5\" valign=\"top\">atlanta</th>\n",
       "      <th>Clear</th>\n",
       "      <td>42811</td>\n",
       "    </tr>\n",
       "    <tr>\n",
       "      <th>Mostly Cloudy</th>\n",
       "      <td>27364</td>\n",
       "    </tr>\n",
       "    <tr>\n",
       "      <th>Overcast</th>\n",
       "      <td>19430</td>\n",
       "    </tr>\n",
       "    <tr>\n",
       "      <th>Partly Cloudy</th>\n",
       "      <td>36270</td>\n",
       "    </tr>\n",
       "    <tr>\n",
       "      <th>Rain</th>\n",
       "      <td>15642</td>\n",
       "    </tr>\n",
       "  </tbody>\n",
       "</table>\n",
       "</div>"
      ],
      "text/plain": [
       "                       Count\n",
       "City    MapWeather          \n",
       "atlanta Clear          42811\n",
       "        Mostly Cloudy  27364\n",
       "        Overcast       19430\n",
       "        Partly Cloudy  36270\n",
       "        Rain           15642"
      ]
     },
     "execution_count": 5,
     "metadata": {},
     "output_type": "execute_result"
    }
   ],
   "source": [
    "fields = [\"City\", \"MapWeather\", \"Count\"]\n",
    "crime1 = crime[fields].copy()\n",
    "fields = [\"City\", \"MapWeather\"]\n",
    "crime_sum = crime1.groupby(fields).agg(\"sum\")\n",
    "crime_sum.head()"
   ]
  },
  {
   "cell_type": "code",
   "execution_count": 7,
   "metadata": {},
   "outputs": [],
   "source": [
    "crime_sum.to_csv(\"crimebyweather.csv\", sep=',', encoding='utf-8')"
   ]
  },
  {
   "cell_type": "code",
   "execution_count": 17,
   "metadata": {},
   "outputs": [
    {
     "name": "stdout",
     "output_type": "stream",
     "text": [
      "<class 'pandas.core.frame.DataFrame'>\n",
      "RangeIndex: 218695 entries, 0 to 218694\n",
      "Data columns (total 5 columns):\n",
      "city          218695 non-null object\n",
      "weather       218695 non-null object\n",
      "date          218695 non-null object\n",
      "time          218695 non-null int64\n",
      "MapWeather    218695 non-null object\n",
      "dtypes: int64(1), object(4)\n",
      "memory usage: 8.3+ MB\n"
     ]
    }
   ],
   "source": [
    "file = \"weather_df.csv\"\n",
    "weather = pd.read_csv(file)\n",
    "weather.info()"
   ]
  },
  {
   "cell_type": "code",
   "execution_count": 18,
   "metadata": {},
   "outputs": [
    {
     "name": "stdout",
     "output_type": "stream",
     "text": [
      "<class 'pandas.core.frame.DataFrame'>\n",
      "MultiIndex: 29 entries, (atlanta, Clear) to (los_angeles, Rain)\n",
      "Data columns (total 1 columns):\n",
      "Count    29 non-null int64\n",
      "dtypes: int64(1)\n",
      "memory usage: 522.0+ bytes\n"
     ]
    }
   ],
   "source": [
    "fields = [\"city\", \"MapWeather\", \"time\"]\n",
    "wthr1 = weather[fields].copy()\n",
    "fields = [\"city\", \"MapWeather\"]\n",
    "wthr2 = wthr1.groupby(fields).agg(\"count\")\n",
    "wthr2 = wthr2.rename(columns = {\"time\" : \"Count\"})\n",
    "wthr2.info()"
   ]
  },
  {
   "cell_type": "code",
   "execution_count": 19,
   "metadata": {},
   "outputs": [],
   "source": [
    "wthr2.to_csv(\"weatherbycity.csv\", sep=',', encoding='utf-8')"
   ]
  },
  {
   "cell_type": "code",
   "execution_count": null,
   "metadata": {},
   "outputs": [],
   "source": [
    "df3 = pd.merge(df, df2, how='inner', left_on = [\"City\",\"MapWeather\",\"StartTime\"], right_on = [\"city\",\"MapWeather\",\"time\"])\n",
    "df3.head()"
   ]
  },
  {
   "cell_type": "code",
   "execution_count": null,
   "metadata": {},
   "outputs": [],
   "source": [
    "df3[\"ratio\"] = df3[\"Count_x\"] / df3[\"Count_y\"]\n",
    "df_glm = df3.copy()\n",
    "df_glm.head()"
   ]
  },
  {
   "cell_type": "code",
   "execution_count": null,
   "metadata": {},
   "outputs": [],
   "source": [
    "obj_list = df3.select_dtypes('object').apply(pd.Series.nunique, axis = 0)\n",
    "le = LabelEncoder()\n",
    "\n",
    "for i in obj_list.index:\n",
    "    try:\n",
    "        le.fit(df_glm[i])\n",
    "        df_glm[i] = le.transform(df_glm[i])\n",
    "    except:\n",
    "        df_glm[i] = pd.get_dummies(df_glm[i])"
   ]
  },
  {
   "cell_type": "code",
   "execution_count": null,
   "metadata": {},
   "outputs": [],
   "source": [
    "i = 6\n",
    "d1 = df_glm.groupby(df_glm.columns[i])\n",
    "plt.plot(d1[\"ratio\"].mean())\n",
    "plt.title(df_glm.columns[i])\n",
    "plt.show()"
   ]
  },
  {
   "cell_type": "code",
   "execution_count": null,
   "metadata": {},
   "outputs": [],
   "source": [
    "a = df.columns[0]\n",
    "b = df.columns[1]\n",
    "c = df.columns[2]\n",
    "d = df.columns[3]\n",
    "e = df.columns[4]\n",
    "f = df.columns[5]\n",
    "g = df.columns[6]\n",
    "\n",
    "form1 = \"ratio ~ \" + a + \" + \" +  b + \" + \" + c + \" + \" + d + \" + \" + e + \" + \" + g\n",
    "print(form1)\n",
    "form2 = \"ratio ~ \" + a + \" + \" +  b + \" + \" + c + \" + \" + d + \" + \" + e\n",
    "print(form2)"
   ]
  },
  {
   "cell_type": "code",
   "execution_count": null,
   "metadata": {},
   "outputs": [],
   "source": [
    "#model_ols = glm(formula = form1, data = df_glm, family = sm.families.Gaussian()).fit()\n",
    "#print(model_ols.summary())"
   ]
  }
 ],
 "metadata": {
  "kernelspec": {
   "display_name": "Python 36 (PythonData)",
   "language": "python",
   "name": "pythondata"
  },
  "language_info": {
   "codemirror_mode": {
    "name": "ipython",
    "version": 3
   },
   "file_extension": ".py",
   "mimetype": "text/x-python",
   "name": "python",
   "nbconvert_exporter": "python",
   "pygments_lexer": "ipython3",
   "version": "3.6.8"
  }
 },
 "nbformat": 4,
 "nbformat_minor": 2
}
